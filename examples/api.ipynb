{
 "cells": [
  {
   "cell_type": "markdown",
   "metadata": {},
   "source": [
    "Python package for NAIF WebGeoCalc API\n",
    "======================================\n",
    "\n",
    "In december 2018, [JPL/NAIF](https://naif.jpl.nasa.gov/naif/webgeocalc.html)\n",
    "announced an **experimental**\n",
    "[API RESTful interface](https://naif.jpl.nasa.gov/naif/WebGeocalc_announcement.pdf)\n",
    "for their new \n",
    "[WebGeocalc server](https://wgc2.jpl.nasa.gov:8443/webgeocalc)\n",
    "(which make online SPICE calculations).\n",
    "[Documentation](https://wgc2.jpl.nasa.gov:8443/webgeocalc/documents/api-info.html)\n",
    "and [JavaScript examples](https://wgc2.jpl.nasa.gov:8443/webgeocalc/example/perform-calculation.html)\n",
    "are already available.\n",
    "\n",
    "This package is an **early attempt** to provide a Python interface to\n",
    "make SPICE calculation through this API.\n",
    "\n",
    "\n",
    "Disclaimer\n",
    "----------\n",
    "This project is not supported or endorsed by either JPL, NAIF or NASA.\n",
    "The code is provided *\"as is\"*, use at your own risk."
   ]
  },
  {
   "cell_type": "markdown",
   "metadata": {},
   "source": [
    "# Examples"
   ]
  },
  {
   "cell_type": "code",
   "execution_count": 1,
   "metadata": {},
   "outputs": [
    {
     "data": {
      "text/plain": [
       "'https://wgc2.jpl.nasa.gov:8443/webgeocalc/api'"
      ]
     },
     "execution_count": 1,
     "metadata": {},
     "output_type": "execute_result"
    }
   ],
   "source": [
    "from webgeocalc import API\n",
    "\n",
    "API.url"
   ]
  },
  {
   "cell_type": "markdown",
   "metadata": {},
   "source": [
    "## Get kernel sets"
   ]
  },
  {
   "cell_type": "code",
   "execution_count": 2,
   "metadata": {},
   "outputs": [
    {
     "data": {
      "text/plain": [
       "[<KernelSetDetails> Solar System Kernels (id: 1),\n",
       " <KernelSetDetails> Latest Leapseconds Kernel (id: 2),\n",
       " <KernelSetDetails> Latest Planetary Constants Kernel (id: 3),\n",
       " <KernelSetDetails> Ground Stations Kernels (id: 4),\n",
       " <KernelSetDetails> Cassini Huygens (id: 5),\n",
       " <KernelSetDetails> Clementine (id: 6),\n",
       " <KernelSetDetails> Dawn (id: 7),\n",
       " <KernelSetDetails> Deep Impact (Primary mission) (id: 8),\n",
       " <KernelSetDetails> Deep Impact (EPOXI mission) (id: 9),\n",
       " <KernelSetDetails> Deep Space 1 (id: 10),\n",
       " <KernelSetDetails> GRAIL (id: 11),\n",
       " <KernelSetDetails> Hayabusa (id: 12),\n",
       " <KernelSetDetails> JUNO (id: 13),\n",
       " <KernelSetDetails> Lunar Reconnaissance Orbiter (id: 14),\n",
       " <KernelSetDetails> MAVEN (id: 15),\n",
       " <KernelSetDetails> MER1 Rover (Opportunity) (id: 16),\n",
       " <KernelSetDetails> MER2 Rover (Spirit) (id: 17),\n",
       " <KernelSetDetails> MESSENGER (id: 18),\n",
       " <KernelSetDetails> Mars Express (id: 19),\n",
       " <KernelSetDetails> Mars Global Surveyor (id: 20),\n",
       " <KernelSetDetails> Mars Odyssey (id: 21),\n",
       " <KernelSetDetails> Mars Reconnaissance Orbiter (id: 22),\n",
       " <KernelSetDetails> MSL Rover (Curiosity) (id: 23),\n",
       " <KernelSetDetails> NEAR (id: 24),\n",
       " <KernelSetDetails> New Horizons (id: 25),\n",
       " <KernelSetDetails> OSIRIS-REx (id: 26),\n",
       " <KernelSetDetails> Rosetta (id: 27),\n",
       " <KernelSetDetails> Stardust (id: 28),\n",
       " <KernelSetDetails> Venus Climate Orbiter (id: 29),\n",
       " <KernelSetDetails> Venus Express (id: 30),\n",
       " <KernelSetDetails> Viking Orbiters (id: 31),\n",
       " <KernelSetDetails> LADEE (id: 32),\n",
       " <KernelSetDetails> SPICE Class -- CASSINI Remote Sensing Lesson Kernels (id: 33),\n",
       " <KernelSetDetails> SPICE Class -- ExoMars 2016 Remote Sensing Lesson Kernels (id: 34),\n",
       " <KernelSetDetails> SPICE Class -- In-situ Sensing Lesson Kernels (id: 35),\n",
       " <KernelSetDetails> SPICE Class -- Mars Express Geometric Event Finding Lesson Kernels (id: 36),\n",
       " <KernelSetDetails> SPICE Class -- ExoMars 2016 Geometric Event Finding Lesson Kernels (id: 37),\n",
       " <KernelSetDetails> SPICE Class -- Binary PCK Lesson Kernels (Moon) (id: 38),\n",
       " <KernelSetDetails> SPICE Class -- Binary PCK Lesson Kernels (Earth) (id: 39)]"
      ]
     },
     "execution_count": 2,
     "metadata": {},
     "output_type": "execute_result"
    }
   ],
   "source": [
    "kernel_sets = API.kernel_sets() # /kernel-sets\n",
    "kernel_sets"
   ]
  },
  {
   "cell_type": "markdown",
   "metadata": {},
   "source": [
    "### Kernel set object"
   ]
  },
  {
   "cell_type": "code",
   "execution_count": 3,
   "metadata": {},
   "outputs": [
    {
     "data": {
      "text/plain": [
       "1"
      ]
     },
     "execution_count": 3,
     "metadata": {},
     "output_type": "execute_result"
    }
   ],
   "source": [
    "kernel_set = kernel_sets[0]\n",
    "int(kernel_set) # kernelSetId"
   ]
  },
  {
   "cell_type": "code",
   "execution_count": 4,
   "metadata": {},
   "outputs": [
    {
     "data": {
      "text/plain": [
       "'Solar System Kernels'"
      ]
     },
     "execution_count": 4,
     "metadata": {},
     "output_type": "execute_result"
    }
   ],
   "source": [
    "str(kernel_set) # Caption"
   ]
  },
  {
   "cell_type": "code",
   "execution_count": 5,
   "metadata": {},
   "outputs": [
    {
     "data": {
      "text/plain": [
       "'Generic kernels for planets, satellites, and some asteroids covering from 1950-01-01 to 2050-01-01.'"
      ]
     },
     "execution_count": 5,
     "metadata": {},
     "output_type": "execute_result"
    }
   ],
   "source": [
    "kernel_set.description # Get kernel attribute"
   ]
  },
  {
   "cell_type": "code",
   "execution_count": 6,
   "metadata": {},
   "outputs": [
    {
     "data": {
      "text/plain": [
       "dict_keys(['caption', 'sclkId', 'description', 'kernelSetId', 'missionId'])"
      ]
     },
     "execution_count": 6,
     "metadata": {},
     "output_type": "execute_result"
    }
   ],
   "source": [
    "kernel_set.keys()"
   ]
  },
  {
   "cell_type": "code",
   "execution_count": 7,
   "metadata": {},
   "outputs": [
    {
     "data": {
      "text/plain": [
       "dict_values(['Solar System Kernels', '0', 'Generic kernels for planets, satellites, and some asteroids covering from 1950-01-01 to 2050-01-01.', '1', 'gen'])"
      ]
     },
     "execution_count": 7,
     "metadata": {},
     "output_type": "execute_result"
    }
   ],
   "source": [
    "kernel_set.values()"
   ]
  },
  {
   "cell_type": "markdown",
   "metadata": {},
   "source": [
    "### Get a kernel set by it's `id` or `caption name`:"
   ]
  },
  {
   "cell_type": "code",
   "execution_count": 8,
   "metadata": {},
   "outputs": [
    {
     "data": {
      "text/plain": [
       "<KernelSetDetails> Solar System Kernels (id: 1)"
      ]
     },
     "execution_count": 8,
     "metadata": {},
     "output_type": "execute_result"
    }
   ],
   "source": [
    "# By ID\n",
    "API.kernel_set(1)"
   ]
  },
  {
   "cell_type": "code",
   "execution_count": 9,
   "metadata": {},
   "outputs": [
    {
     "data": {
      "text/plain": [
       "<KernelSetDetails> Solar System Kernels (id: 1)"
      ]
     },
     "execution_count": 9,
     "metadata": {},
     "output_type": "execute_result"
    }
   ],
   "source": [
    "# By full caption name\n",
    "API.kernel_set('Solar System Kernels')"
   ]
  },
  {
   "cell_type": "code",
   "execution_count": 10,
   "metadata": {},
   "outputs": [
    {
     "data": {
      "text/plain": [
       "<KernelSetDetails> Solar System Kernels (id: 1)"
      ]
     },
     "execution_count": 10,
     "metadata": {},
     "output_type": "execute_result"
    }
   ],
   "source": [
    "# Not case sensitive\n",
    "API.kernel_set('solar system kernels')"
   ]
  },
  {
   "cell_type": "code",
   "execution_count": 11,
   "metadata": {},
   "outputs": [
    {
     "data": {
      "text/plain": [
       "<KernelSetDetails> Solar System Kernels (id: 1)"
      ]
     },
     "execution_count": 11,
     "metadata": {},
     "output_type": "execute_result"
    }
   ],
   "source": [
    "# Search by partial name\n",
    "API.kernel_set('Solar')"
   ]
  },
  {
   "cell_type": "markdown",
   "metadata": {},
   "source": [
    "#### Handling errors:"
   ]
  },
  {
   "cell_type": "code",
   "execution_count": 12,
   "metadata": {},
   "outputs": [
    {
     "name": "stdout",
     "output_type": "stream",
     "text": [
      "Too many kernel sets contains 'Cassini' in their names:\n",
      " - Cassini Huygens\n",
      " - SPICE Class -- CASSINI Remote Sensing Lesson Kernels\n"
     ]
    }
   ],
   "source": [
    "from webgeocalc.errors import TooManyKernelSets, KernelSetNotFound\n",
    "\n",
    "# More than one kernel found\n",
    "try:\n",
    "    API.kernel_set('Cassini')\n",
    "except TooManyKernelSets as err:\n",
    "    print(err)"
   ]
  },
  {
   "cell_type": "code",
   "execution_count": 13,
   "metadata": {},
   "outputs": [
    {
     "name": "stdout",
     "output_type": "stream",
     "text": [
      "Kernel set 'Missing kernel' not found\n"
     ]
    }
   ],
   "source": [
    "# Kernel not found\n",
    "try:\n",
    "    API.kernel_set('Missing kernel')\n",
    "except KernelSetNotFound as err:\n",
    "    print(err)"
   ]
  },
  {
   "cell_type": "markdown",
   "metadata": {},
   "source": [
    "## Get bodies"
   ]
  },
  {
   "cell_type": "code",
   "execution_count": 14,
   "metadata": {},
   "outputs": [
    {
     "data": {
      "text/plain": [
       "[<BodyData> CASSINI (id: -82),\n",
       " <BodyData> CAS (id: -82),\n",
       " <BodyData> MERCURY BARYCENTER (id: 1),\n",
       " <BodyData> VENUS BARYCENTER (id: 2),\n",
       " <BodyData> EARTH BARYCENTER (id: 3),\n",
       " <BodyData> EMB (id: 3),\n",
       " <BodyData> EARTH MOON BARYCENTER (id: 3),\n",
       " <BodyData> EARTH-MOON BARYCENTER (id: 3),\n",
       " <BodyData> MARS BARYCENTER (id: 4),\n",
       " <BodyData> JUPITER BARYCENTER (id: 5),\n",
       " <BodyData> SATURN BARYCENTER (id: 6),\n",
       " <BodyData> URANUS BARYCENTER (id: 7),\n",
       " <BodyData> NEPTUNE BARYCENTER (id: 8),\n",
       " <BodyData> PLUTO BARYCENTER (id: 9),\n",
       " <BodyData> SUN (id: 10),\n",
       " <BodyData> MERCURY (id: 199),\n",
       " <BodyData> VENUS (id: 299),\n",
       " <BodyData> MOON (id: 301),\n",
       " <BodyData> EARTH (id: 399),\n",
       " <BodyData> MARS (id: 499),\n",
       " <BodyData> IO (id: 501),\n",
       " <BodyData> EUROPA (id: 502),\n",
       " <BodyData> GANYMEDE (id: 503),\n",
       " <BodyData> CALLISTO (id: 504),\n",
       " <BodyData> AMALTHEA (id: 505),\n",
       " <BodyData> THEBE (id: 514),\n",
       " <BodyData> ADRASTEA (id: 515),\n",
       " <BodyData> METIS (id: 516),\n",
       " <BodyData> JUPITER (id: 599),\n",
       " <BodyData> MIMAS (id: 601),\n",
       " <BodyData> ENCELADUS (id: 602),\n",
       " <BodyData> TETHYS (id: 603),\n",
       " <BodyData> DIONE (id: 604),\n",
       " <BodyData> RHEA (id: 605),\n",
       " <BodyData> TITAN (id: 606),\n",
       " <BodyData> HYPERION (id: 607),\n",
       " <BodyData> IAPETUS (id: 608),\n",
       " <BodyData> PHOEBE (id: 609),\n",
       " <BodyData> JANUS (id: 610),\n",
       " <BodyData> EPIMETHEUS (id: 611),\n",
       " <BodyData> HELENE (id: 612),\n",
       " <BodyData> TELESTO (id: 613),\n",
       " <BodyData> CALYPSO (id: 614),\n",
       " <BodyData> ATLAS (id: 615),\n",
       " <BodyData> PROMETHEUS (id: 616),\n",
       " <BodyData> PANDORA (id: 617),\n",
       " <BodyData> PAN (id: 618),\n",
       " <BodyData> YMIR (id: 619),\n",
       " <BodyData> PAALIAQ (id: 620),\n",
       " <BodyData> TARVOS (id: 621),\n",
       " <BodyData> IJIRAQ (id: 622),\n",
       " <BodyData> SUTTUNGR (id: 623),\n",
       " <BodyData> KIVIUQ (id: 624),\n",
       " <BodyData> MUNDILFARI (id: 625),\n",
       " <BodyData> ALBIORIX (id: 626),\n",
       " <BodyData> SKATHI (id: 627),\n",
       " <BodyData> ERRIAPUS (id: 628),\n",
       " <BodyData> SIARNAQ (id: 629),\n",
       " <BodyData> THRYMR (id: 630),\n",
       " <BodyData> NARVI (id: 631),\n",
       " <BodyData> METHONE (id: 632),\n",
       " <BodyData> PALLENE (id: 633),\n",
       " <BodyData> POLYDEUCES (id: 634),\n",
       " <BodyData> DAPHNIS (id: 635),\n",
       " <BodyData> AEGIR (id: 636),\n",
       " <BodyData> BEBHIONN (id: 637),\n",
       " <BodyData> BERGELMIR (id: 638),\n",
       " <BodyData> BESTLA (id: 639),\n",
       " <BodyData> FARBAUTI (id: 640),\n",
       " <BodyData> FENRIR (id: 641),\n",
       " <BodyData> FORNJOT (id: 642),\n",
       " <BodyData> HATI (id: 643),\n",
       " <BodyData> HYRROKKIN (id: 644),\n",
       " <BodyData> HYROKKIN (id: 644),\n",
       " <BodyData> KARI (id: 645),\n",
       " <BodyData> LOGE (id: 646),\n",
       " <BodyData> SKOLL (id: 647),\n",
       " <BodyData> SURTUR (id: 648),\n",
       " <BodyData> ANTHE (id: 649),\n",
       " <BodyData> JARNSAXA (id: 650),\n",
       " <BodyData> GREIP (id: 651),\n",
       " <BodyData> TARQEQ (id: 652),\n",
       " <BodyData> AEGAEON (id: 653),\n",
       " <BodyData> SATURN (id: 699),\n",
       " <BodyData> 65035 (id: 65035),\n",
       " <BodyData> 65040 (id: 65040),\n",
       " <BodyData> 65041 (id: 65041),\n",
       " <BodyData> 65045 (id: 65045),\n",
       " <BodyData> 65048 (id: 65048),\n",
       " <BodyData> 65050 (id: 65050),\n",
       " <BodyData> 65055 (id: 65055),\n",
       " <BodyData> 65056 (id: 65056),\n",
       " <BodyData> HIMALIA (id: 506),\n",
       " <BodyData> ELARA (id: 507),\n",
       " <BodyData> PASIPHAE (id: 508),\n",
       " <BodyData> SINOPE (id: 509),\n",
       " <BodyData> LYSITHEA (id: 510),\n",
       " <BodyData> CARME (id: 511),\n",
       " <BodyData> ANANKE (id: 512),\n",
       " <BodyData> LEDA (id: 513),\n",
       " <BodyData> CASP (id: -150),\n",
       " <BodyData> CASSINI PROBE (id: -150),\n",
       " <BodyData> HUYGENS PROBE (id: -150),\n",
       " <BodyData> SSB (id: 0),\n",
       " <BodyData> SOLAR SYSTEM BARYCENTER (id: 0)]"
      ]
     },
     "execution_count": 14,
     "metadata": {},
     "output_type": "execute_result"
    }
   ],
   "source": [
    "bodies = API.bodies(5) # /kernel-set/{kernelSetId}/bodies\n",
    "# or\n",
    "API.bodies('Cassini Huygens')"
   ]
  },
  {
   "cell_type": "code",
   "execution_count": 15,
   "metadata": {},
   "outputs": [
    {
     "name": "stdout",
     "output_type": "stream",
     "text": [
      "Body `id`: -82 and `name`: CASSINI\n"
     ]
    }
   ],
   "source": [
    "body = bodies[0]\n",
    "print(f\"Body `id`: {int(body)} and `name`: {str(body)}\")"
   ]
  }
 ],
 "metadata": {
  "kernelspec": {
   "display_name": "Python 3",
   "language": "python",
   "name": "python3"
  },
  "language_info": {
   "codemirror_mode": {
    "name": "ipython",
    "version": 3
   },
   "file_extension": ".py",
   "mimetype": "text/x-python",
   "name": "python",
   "nbconvert_exporter": "python",
   "pygments_lexer": "ipython3",
   "version": "3.6.6"
  }
 },
 "nbformat": 4,
 "nbformat_minor": 2
}
