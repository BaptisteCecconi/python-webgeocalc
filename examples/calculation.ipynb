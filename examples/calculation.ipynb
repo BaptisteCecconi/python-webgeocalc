{
 "cells": [
  {
   "cell_type": "markdown",
   "metadata": {},
   "source": [
    "**Previous:** Use [WebGeoCalc API](api.ipynb)\n",
    "\n",
    "---\n",
    "\n",
    "# Make a calculation"
   ]
  },
  {
   "cell_type": "markdown",
   "metadata": {},
   "source": [
    "### Optional parameters (with __default__):\n",
    "\n",
    "- `time_system`: __UTC__ | TDB | TDT | SPACECRAFT_CLOCK \n",
    "- `time_format`: __CALENDAR__ | JULIAN | SECONDS_PAST_J2000 | SPACECRAFT_CLOCK_TICKS | SPACECRAFT_CLOCK_STRING"
   ]
  },
  {
   "cell_type": "code",
   "execution_count": 1,
   "metadata": {},
   "outputs": [
    {
     "data": {
      "text/plain": [
       "{'kernels': [{'type': 'KERNEL_SET', 'id': 5}],\n",
       " 'times': ['2012-10-19T08:24:00.000'],\n",
       " 'calculationType': 'STATE_VECTOR',\n",
       " 'target': 'CASSINI',\n",
       " 'observer': 'SATURN',\n",
       " 'referenceFrame': 'IAU_SATURN',\n",
       " 'aberrationCorrection': 'NONE',\n",
       " 'stateRepresentation': 'PLANETOGRAPHIC',\n",
       " 'timeSystem': 'UTC',\n",
       " 'timeFormat': 'CALENDAR'}"
      ]
     },
     "execution_count": 1,
     "metadata": {},
     "output_type": "execute_result"
    }
   ],
   "source": [
    "from webgeocalc import Calculation\n",
    "\n",
    "Calculation(\n",
    "    kernels = 5,\n",
    "    times = '2012-10-19T08:24:00.000',\n",
    "    calculation_type = 'STATE_VECTOR',\n",
    "    target = 'CASSINI',\n",
    "    observer = 'SATURN',\n",
    "    reference_frame = 'IAU_SATURN',\n",
    "    aberration_correction = 'NONE',\n",
    "    state_representation = 'PLANETOGRAPHIC',\n",
    ").payload"
   ]
  },
  {
   "cell_type": "markdown",
   "metadata": {},
   "source": [
    "## StateVector\n",
    "\n",
    "Calculates the position of one body relative to another, calculated in a desired reference frame.\n",
    "\n",
    "### Required parameters:\n",
    "\n",
    "- `kernels` or `kernel_paths`\n",
    "- `times` or `intervals` + `time_step` + `time_step_units`\n",
    "- `target`, the target body name or ID.\n",
    "- `observer`, the observing body name or ID.\n",
    "- `reference_frame`, the reference frame name.\n",
    "\n",
    "### Optional parameters (with __default__):\n",
    "\n",
    "- `time_system`: __UTC__ | TDB | TDT | SPACECRAFT_CLOCK \n",
    "- `time_format`: __CALENDAR__ | JULIAN | SECONDS_PAST_J2000 | SPACECRAFT_CLOCK_TICKS | SPACECRAFT_CLOCK_STRING\n",
    "- `aberration_correction`: NONE | LT | LT+S | __CN__ | CN+S | XLT | XLT+S | XCN | XCN+S\n",
    "- `state_representation`: __RECTANGULAR__ | RA_DEC | LATITUDINAL | PLANETODETIC | PLANETOGRAPHIC | CYLINDRICAL | SPHERICAL"
   ]
  },
  {
   "cell_type": "code",
   "execution_count": 2,
   "metadata": {},
   "outputs": [
    {
     "data": {
      "text/plain": [
       "{'kernels': [{'type': 'KERNEL_SET', 'id': 5}],\n",
       " 'times': ['2012-10-19T09:00:00'],\n",
       " 'target': 'CASSINI',\n",
       " 'observer': 'SATURN',\n",
       " 'referenceFrame': 'IAU_SATURN',\n",
       " 'calculationType': 'STATE_VECTOR',\n",
       " 'aberrationCorrection': 'CN',\n",
       " 'stateRepresentation': 'RECTANGULAR',\n",
       " 'timeSystem': 'UTC',\n",
       " 'timeFormat': 'CALENDAR'}"
      ]
     },
     "execution_count": 2,
     "metadata": {},
     "output_type": "execute_result"
    }
   ],
   "source": [
    "from webgeocalc import StateVector\n",
    "\n",
    "StateVector(\n",
    "    kernels = 5,\n",
    "    times = '2012-10-19T09:00:00',\n",
    "    target = 'CASSINI',\n",
    "    observer = 'SATURN',\n",
    "    reference_frame = 'IAU_SATURN',\n",
    ").payload"
   ]
  },
  {
   "cell_type": "markdown",
   "metadata": {},
   "source": [
    "#### Set multiple `kernels` by _name_, multiple `times` and `target`-`observer`-`frame` by _id_:"
   ]
  },
  {
   "cell_type": "code",
   "execution_count": 3,
   "metadata": {},
   "outputs": [
    {
     "data": {
      "text/plain": [
       "{'kernels': [{'type': 'KERNEL_SET', 'id': 1}, {'type': 'KERNEL_SET', 'id': 5}],\n",
       " 'times': ['2012-10-19T07:00:00', '2012-10-19T09:00:00'],\n",
       " 'target': -82,\n",
       " 'observer': 699,\n",
       " 'referenceFrame': 10016,\n",
       " 'calculationType': 'STATE_VECTOR',\n",
       " 'aberrationCorrection': 'NONE',\n",
       " 'stateRepresentation': 'RECTANGULAR',\n",
       " 'timeSystem': 'UTC',\n",
       " 'timeFormat': 'CALENDAR'}"
      ]
     },
     "execution_count": 3,
     "metadata": {},
     "output_type": "execute_result"
    }
   ],
   "source": [
    "StateVector(\n",
    "    kernels = ['Solar System Kernels', 'Cassini Huygens'],\n",
    "    times = ['2012-10-19T07:00:00', '2012-10-19T09:00:00'],\n",
    "    target = -82, # CASSINI\n",
    "    observer = 699, # SATURN\n",
    "    reference_frame = 10016, # IAU_SATURN\n",
    "    aberration_correction = 'NONE',\n",
    "    stateRepresentation = 'PLANETOGRAPHIC',\n",
    ").payload"
   ]
  },
  {
   "cell_type": "markdown",
   "metadata": {},
   "source": [
    "#### Add individual `kernel path` from on a remote server and multiple `intervals`"
   ]
  },
  {
   "cell_type": "code",
   "execution_count": 4,
   "metadata": {},
   "outputs": [
    {
     "data": {
      "text/plain": [
       "{'kernels': [{'type': 'KERNEL', 'path': 'https://path.to.server/kernel'}],\n",
       " 'intervals': [{'startTime': '2000-01-01', 'endTime': '2000-01-03'},\n",
       "  {'startTime': '2000-02-01', 'endTime': '2000-02-03'}],\n",
       " 'timeStep': 1,\n",
       " 'timeStepUnit': 'DAYS',\n",
       " 'target': 'CASSINI',\n",
       " 'observer': 'SATURN',\n",
       " 'referenceFrame': 'IAU_SATURN',\n",
       " 'calculationType': 'STATE_VECTOR',\n",
       " 'aberrationCorrection': 'CN',\n",
       " 'stateRepresentation': 'RECTANGULAR',\n",
       " 'timeSystem': 'UTC',\n",
       " 'timeFormat': 'CALENDAR'}"
      ]
     },
     "execution_count": 4,
     "metadata": {},
     "output_type": "execute_result"
    }
   ],
   "source": [
    "StateVector(\n",
    "    kernel_paths = 'https://path.to.server/kernel',\n",
    "    intervals = [['2000-01-01', '2000-01-03'], ['2000-02-01', '2000-02-03']],\n",
    "    time_step = 1,\n",
    "    time_step_units = 'DAYS',\n",
    "    target = 'CASSINI',\n",
    "    observer = 'SATURN',\n",
    "    reference_frame = 'IAU_SATURN',\n",
    ").payload"
   ]
  },
  {
   "cell_type": "markdown",
   "metadata": {},
   "source": [
    "## Run the calculation"
   ]
  },
  {
   "cell_type": "code",
   "execution_count": 5,
   "metadata": {},
   "outputs": [
    {
     "name": "stdout",
     "output_type": "stream",
     "text": [
      "[Calculation submitted] Status: COMPLETE (id: 8750344d-645d-4e43-b159-c8d88d28aac6)\n"
     ]
    }
   ],
   "source": [
    "calc = StateVector(\n",
    "    kernels = 5,\n",
    "    times = '2012-10-19T09:00:00',\n",
    "    target = 'CASSINI',\n",
    "    observer = 'SATURN',\n",
    "    reference_frame = 'IAU_SATURN',\n",
    ")\n",
    "calc.submit()"
   ]
  },
  {
   "cell_type": "markdown",
   "metadata": {},
   "source": [
    "#### Update status calculation:"
   ]
  },
  {
   "cell_type": "code",
   "execution_count": 6,
   "metadata": {},
   "outputs": [
    {
     "name": "stdout",
     "output_type": "stream",
     "text": [
      "[Calculation update] Status: COMPLETE (id: 8750344d-645d-4e43-b159-c8d88d28aac6)\n"
     ]
    }
   ],
   "source": [
    "calc.update()"
   ]
  },
  {
   "cell_type": "code",
   "execution_count": 7,
   "metadata": {},
   "outputs": [
    {
     "data": {
      "text/plain": [
       "{'DATE': '2012-10-19 09:00:00.000000 UTC',\n",
       " 'DISTANCE': 764142.63776247,\n",
       " 'SPEED': 111.54765899,\n",
       " 'X': 298292.85744169,\n",
       " 'Y': -651606.58468976,\n",
       " 'Z': 265224.81187627,\n",
       " 'D_X_DT': -98.8032491,\n",
       " 'D_Y_DT': -51.73211296,\n",
       " 'D_Z_DT': -2.1416539,\n",
       " 'TIME_AT_TARGET': '2012-10-19 08:59:57.451094 UTC',\n",
       " 'LIGHT_TIME': 2.54890548}"
      ]
     },
     "execution_count": 7,
     "metadata": {},
     "output_type": "execute_result"
    }
   ],
   "source": [
    "calc.results"
   ]
  },
  {
   "cell_type": "markdown",
   "metadata": {},
   "source": [
    "#### Submit, update and get results at once"
   ]
  },
  {
   "cell_type": "code",
   "execution_count": 8,
   "metadata": {},
   "outputs": [
    {
     "data": {
      "text/plain": [
       "{'DATE': '2012-10-19 09:00:00.000000 UTC',\n",
       " 'DISTANCE': 764142.63776247,\n",
       " 'SPEED': 111.54765899,\n",
       " 'X': 298292.85744169,\n",
       " 'Y': -651606.58468976,\n",
       " 'Z': 265224.81187627,\n",
       " 'D_X_DT': -98.8032491,\n",
       " 'D_Y_DT': -51.73211296,\n",
       " 'D_Z_DT': -2.1416539,\n",
       " 'TIME_AT_TARGET': '2012-10-19 08:59:57.451094 UTC',\n",
       " 'LIGHT_TIME': 2.54890548}"
      ]
     },
     "execution_count": 8,
     "metadata": {},
     "output_type": "execute_result"
    }
   ],
   "source": [
    "calc.run()"
   ]
  },
  {
   "cell_type": "markdown",
   "metadata": {},
   "source": [
    "## AngularSeparation\n",
    "\n",
    "Calculates the angular separation of two bodies as seen by an observer body.\n",
    "\n",
    "### Required parameters:\n",
    "\n",
    "- `kernels` or `kernel_paths`\n",
    "- `times` or `intervals` + `time_step` + `time_step_units`\n",
    "- `target_1`, the target body name or ID of the first body.\n",
    "- `target_2`, the target body name or ID of the second body.\n",
    "- `observer`, the observing body name or ID.\n",
    "\n",
    "### Optional parameters (with __default__):\n",
    "\n",
    "- `time_system`: __UTC__ | TDB | TDT | SPACECRAFT_CLOCK \n",
    "- `time_format`: __CALENDAR__ | JULIAN | SECONDS_PAST_J2000 | SPACECRAFT_CLOCK_TICKS | SPACECRAFT_CLOCK_STRING\n",
    "- `shape_1`, the shape to use for the first body: __POINT__ | SPHERE\n",
    "- `shape_2`, the shape to use for the second body: __POINT__ | SPHERE\n",
    "- `aberration_correction`: NONE | LT | LT+S | __CN__ | CN+S | XLT | XLT+S | XCN | XCN+S\n",
    "    \n",
    "\n"
   ]
  },
  {
   "cell_type": "code",
   "execution_count": 9,
   "metadata": {},
   "outputs": [
    {
     "name": "stdout",
     "output_type": "stream",
     "text": [
      "[Calculation submitted] Status: COMPLETE (id: 0273e817-3af6-4dd7-91ef-7c2d8ef459f9)\n"
     ]
    },
    {
     "data": {
      "text/plain": [
       "{'DATE': '2012-10-19 08:24:00.000000 UTC', 'ANGULAR_SEPARATION': 175.17072258}"
      ]
     },
     "execution_count": 9,
     "metadata": {},
     "output_type": "execute_result"
    }
   ],
   "source": [
    "from webgeocalc import AngularSeparation\n",
    "\n",
    "AngularSeparation(\n",
    "    kernel_paths = ['pds/wgc/kernels/lsk/naif0012.tls', 'pds/wgc/kernels/spk/de430.bsp'],\n",
    "    times = '2012-10-19T08:24:00.000',\n",
    "    target_1 = 'VENUS',\n",
    "    target_2 = 'MERCURY',\n",
    "    observer = 'SUN',\n",
    ").run()"
   ]
  },
  {
   "cell_type": "markdown",
   "metadata": {},
   "source": [
    "## Angular Size\n",
    "\n",
    "Calculates the angular size of a target as seen by an observer.\n",
    "    \n",
    "### Required parameters:\n",
    "\n",
    "- `kernels` or `kernel_paths`\n",
    "- `times` or `intervals` + `time_step` + `time_step_units`\n",
    "- `target`, the target body name or ID.\n",
    "- `observer`, the observing body name or ID.\n",
    "\n",
    "### Optional parameters (with __default__):\n",
    "\n",
    "- `time_system`: __UTC__ | TDB | TDT | SPACECRAFT_CLOCK \n",
    "- `time_format`: __CALENDAR__ | JULIAN | SECONDS_PAST_J2000 | SPACECRAFT_CLOCK_TICKS | SPACECRAFT_CLOCK_STRING\n",
    "- `aberration_correction`: NONE | LT | LT+S | __CN__ | CN+S | XLT | XLT+S | XCN | XCN+S"
   ]
  },
  {
   "cell_type": "code",
   "execution_count": 10,
   "metadata": {},
   "outputs": [
    {
     "name": "stdout",
     "output_type": "stream",
     "text": [
      "[Calculation submitted] Status: COMPLETE (id: 702a4781-3340-4856-a771-fac9011a7c6b)\n"
     ]
    },
    {
     "data": {
      "text/plain": [
       "{'DATE': '2012-10-19 08:24:00.000000 UTC', 'ANGULAR_SIZE': 0.03037939}"
      ]
     },
     "execution_count": 10,
     "metadata": {},
     "output_type": "execute_result"
    }
   ],
   "source": [
    "from webgeocalc import AngularSize\n",
    "\n",
    "AngularSize(\n",
    "    kernels = 5,\n",
    "    times = '2012-10-19T08:24:00.000',\n",
    "    target = 'ENCELADUS',\n",
    "    observer = 'CASSINI',\n",
    "    aberration_correction = 'CN+S',\n",
    ").run()"
   ]
  },
  {
   "cell_type": "markdown",
   "metadata": {},
   "source": [
    "## Frame Transformation\n",
    "\n",
    "Calculate the transformation from one reference frame (Frame 1) to another reference frame (Frame 2).\n",
    "    \n",
    "### Required parameters:\n",
    "\n",
    "- `kernels` or `kernel_paths`\n",
    "- `times` or `intervals` + `time_step` + `time_step_units`\n",
    "- `frame_1`, the first reference frame name.\n",
    "- `frame_2`, the second reference frame name.\n",
    "\n",
    "### Optional parameters (with __default__):\n",
    "\n",
    "- `time_system`: __UTC__ | TDB | TDT | SPACECRAFT_CLOCK \n",
    "- `time_format`: __CALENDAR__ | JULIAN | SECONDS_PAST_J2000 | SPACECRAFT_CLOCK_TICKS | SPACECRAFT_CLOCK_STRING\n",
    "- `aberration_correction`: NONE | LT | __CN__ | XLT | XCN\n",
    "- `time_location`, the frame for the input times: __FRAME1__ | FRAME2\n",
    "- `orientation_representation`: the representation of the result transformation: __EULER_ANGLES__ | ANGLE_AND_AXIS | SPICE_QUATERNION | OTHER_QUATERNION | MATRIX_ROW_BY_ROW | MATRIX_FLAGGED | MATRIX_ALL_ONE_ROW\n",
    "- `angular_velocity_representation`, the representation of angular velocity in the output: NOT_INCLUDED | __VECTOR_IN_FRAME1__ | VECTOR_IN_FRAME2 | EULER_ANGLE_DERIVATIVES | MATRIX\n",
    "\n",
    "Only needed if `orientation_representation` is EULER_ANGLES:\n",
    "- `axis_1`, the first axis for Euler angle rotation: __X__ | Y | Z\n",
    "- `axis_2`, the second axis for Euler angle rotation: X | __Y__ | Z\n",
    "- `axis_3`, the third axis for Euler angle rotation: X | Y | __Z__\n",
    "\n",
    "Only needed if `orientation_representation` is EULER_ANGLES or ANGLE_AND_AXIS:\n",
    "- `angular_units`, the angular units used for the angle of rotation. __deg__ | rad\n",
    "\n",
    "Only needed if `angular_velocity_representation` is one of: VECTOR_IN_FRAME1, VECTOR_IN_FRAME2, or EULER_ANGLE_DERIVATIVES:\n",
    "- `angular_velocity_units`, the units for the angular velocity: __deg/s__ | rad/s | RPM | Unitary\n",
    "\n",
    "__Note:__ `Unitary` = Unit vector, only applicable for VECTOR_IN_FRAME1 and VECTOR_IN_FRAME2."
   ]
  },
  {
   "cell_type": "code",
   "execution_count": 11,
   "metadata": {},
   "outputs": [
    {
     "name": "stdout",
     "output_type": "stream",
     "text": [
      "[Calculation submitted] Status: COMPLETE (id: 48875b2c-747a-4039-bda4-156ca8de1955)\n"
     ]
    },
    {
     "data": {
      "text/plain": [
       "{'DATE': '2012-10-19 08:24:00.000000 UTC',\n",
       " 'ANGLE3': -20.58940104,\n",
       " 'ANGLE2': 0.01874004,\n",
       " 'ANGLE1': 0.00136319,\n",
       " 'AV_X': 9.94596495e-07,\n",
       " 'AV_Y': -7.23492228e-08,\n",
       " 'AV_Z': -0.00634331,\n",
       " 'AV_MAG': 0.00634331}"
      ]
     },
     "execution_count": 11,
     "metadata": {},
     "output_type": "execute_result"
    }
   ],
   "source": [
    "from webgeocalc import FrameTransformation\n",
    "\n",
    "FrameTransformation(\n",
    "    kernels = 5,\n",
    "    times = '2012-10-19T08:24:00.000',\n",
    "    frame_1 = 'IAU_SATURN',\n",
    "    frame_2 = 'IAU_ENCELADUS',\n",
    "    aberration_correction = 'NONE',\n",
    ").run()"
   ]
  },
  {
   "cell_type": "markdown",
   "metadata": {},
   "source": [
    "## Illumination Angles\n",
    "\n",
    "Calculate the emission, phase and solar incidence angles at a point on a target as seen from an observer.\n",
    "\n",
    "### Required parameters:\n",
    "\n",
    "- `kernels` or `kernel_paths`\n",
    "- `times` or `intervals` + `time_step` + `time_step_units`\n",
    "- `target`, the target body name or ID.\n",
    "- `target_frame`: The target body-fixed reference frame name.\n",
    "- `observer`, the observing body name or ID.\n",
    "- `latitude`, latitude of the surface point, in degrees, from -90 to +90.\n",
    "- `longitude`, longitude of the surface point, in degrees, from -180 to +180.\n",
    "\n",
    "### Optional parameters (with __default__):\n",
    "\n",
    "- `time_system`: __UTC__ | TDB | TDT | SPACECRAFT_CLOCK \n",
    "- `time_format`: __CALENDAR__ | JULIAN | SECONDS_PAST_J2000 | SPACECRAFT_CLOCK_TICKS | SPACECRAFT_CLOCK_STRING\n",
    "- `shape_1`, the shape to use for the target body: __ELLIPSOID__ | DSK\n",
    "- `aberration_correction`: NONE | LT | LT+S | __CN__ | CN+S | XLT | XLT+S | XCN | XCN+S"
   ]
  },
  {
   "cell_type": "code",
   "execution_count": 12,
   "metadata": {},
   "outputs": [
    {
     "name": "stdout",
     "output_type": "stream",
     "text": [
      "[Calculation submitted] Status: COMPLETE (id: 198e15f2-8fa3-4a14-aacb-dfca7f0d7e10)\n"
     ]
    },
    {
     "data": {
      "text/plain": [
       "{'DATE': '2012-10-19 08:24:00.000000 UTC',\n",
       " 'INCIDENCE_ANGLE': 24.78527742,\n",
       " 'EMISSION_ANGLE': 25.56007298,\n",
       " 'PHASE_ANGLE': 1.00079007,\n",
       " 'OBSERVER_ALTITUDE': 967668.02765637,\n",
       " 'TIME_AT_POINT': '2012-10-19 08:23:56.772207 UTC',\n",
       " 'LIGHT_TIME': 3.2277931}"
      ]
     },
     "execution_count": 12,
     "metadata": {},
     "output_type": "execute_result"
    }
   ],
   "source": [
    "from webgeocalc import IlluminationAngles\n",
    "\n",
    "IlluminationAngles(\n",
    "    kernels = 5,\n",
    "    times = '2012-10-19T08:24:00.000',\n",
    "    target = 'ENCELADUS',\n",
    "    target_frame = 'IAU_ENCELADUS',\n",
    "    observer = 'CASSINI',\n",
    "    aberration_correction = 'CN+S',\n",
    "    latitude = 0.0,\n",
    "    longitude = 0.0,\n",
    ").run()"
   ]
  }
 ],
 "metadata": {
  "kernelspec": {
   "display_name": "Python 3",
   "language": "python",
   "name": "python3"
  },
  "language_info": {
   "codemirror_mode": {
    "name": "ipython",
    "version": 3
   },
   "file_extension": ".py",
   "mimetype": "text/x-python",
   "name": "python",
   "nbconvert_exporter": "python",
   "pygments_lexer": "ipython3",
   "version": "3.6.6"
  }
 },
 "nbformat": 4,
 "nbformat_minor": 2
}
