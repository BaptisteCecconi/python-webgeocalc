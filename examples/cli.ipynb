{
 "cells": [
  {
   "cell_type": "markdown",
   "metadata": {},
   "source": [
    "**Previous:** [Make a calculation in python](claculation.ipynb)\n",
    "\n",
    "---\n",
    "\n",
    "# Call the API from the command line\n",
    "\n",
    "- [Kernel sets](#Kernel-sets:-/kernel_sets)\n",
    "- [Bodies](#Bodies:-/kernel-set/{kernelSetId}/bodies)\n",
    "- [Frames](#Frames:-/kernel-set/{kernelSetId}/frames)\n",
    "- [Instruments](#Frames:-/kernel-set/{kernelSetId}/instruments)\n",
    "\n",
    "## Kernel sets: `/kernel_sets`\n",
    "\n",
    "List and search kernel sets available in WebGeocalc API:"
   ]
  },
  {
   "cell_type": "code",
   "execution_count": 1,
   "metadata": {},
   "outputs": [
    {
     "name": "stdout",
     "output_type": "stream",
     "text": [
      "usage: wgc-kernels [-h] [--all] [--kernel NAME|ID [NAME|ID ...]]\r\n",
      "\r\n",
      "List and search kernel sets available in WebGeocalc API.\r\n",
      "\r\n",
      "optional arguments:\r\n",
      "  -h, --help            show this help message and exit\r\n",
      "  --all, -a             List all kernel sets available\r\n",
      "  --kernel NAME|ID [NAME|ID ...], -k NAME|ID [NAME|ID ...]\r\n",
      "                        Search a specific kernel by name or id\r\n"
     ]
    }
   ],
   "source": [
    "!wgc-kernels"
   ]
  },
  {
   "cell_type": "markdown",
   "metadata": {},
   "source": [
    "List all the available kernels:"
   ]
  },
  {
   "cell_type": "code",
   "execution_count": 2,
   "metadata": {
    "scrolled": true
   },
   "outputs": [
    {
     "name": "stdout",
     "output_type": "stream",
     "text": [
      " - Solar System Kernels: (id: 1)\r\n",
      " - Latest Leapseconds Kernel: (id: 2)\r\n",
      " - Latest Planetary Constants Kernel: (id: 3)\r\n",
      " - Ground Stations Kernels: (id: 4)\r\n",
      " - Cassini Huygens: (id: 5)\r\n",
      " - Clementine: (id: 6)\r\n",
      " - Dawn: (id: 7)\r\n",
      " - Deep Impact (Primary mission): (id: 8)\r\n",
      " - Deep Impact (EPOXI mission): (id: 9)\r\n",
      " - Deep Space 1: (id: 10)\r\n",
      " - GRAIL: (id: 11)\r\n",
      " - Hayabusa: (id: 12)\r\n",
      " - JUNO: (id: 13)\r\n",
      " - Lunar Reconnaissance Orbiter: (id: 14)\r\n",
      " - MAVEN: (id: 15)\r\n",
      " - MER1 Rover (Opportunity): (id: 16)\r\n",
      " - MER2 Rover (Spirit): (id: 17)\r\n",
      " - MESSENGER: (id: 18)\r\n",
      " - Mars Express: (id: 19)\r\n",
      " - Mars Global Surveyor: (id: 20)\r\n",
      " - Mars Odyssey: (id: 21)\r\n",
      " - Mars Reconnaissance Orbiter: (id: 22)\r\n",
      " - MSL Rover (Curiosity): (id: 23)\r\n",
      " - NEAR: (id: 24)\r\n",
      " - New Horizons: (id: 25)\r\n",
      " - OSIRIS-REx: (id: 26)\r\n",
      " - Rosetta: (id: 27)\r\n",
      " - Stardust: (id: 28)\r\n",
      " - Venus Climate Orbiter: (id: 29)\r\n",
      " - Venus Express: (id: 30)\r\n",
      " - Viking Orbiters: (id: 31)\r\n",
      " - LADEE: (id: 32)\r\n",
      " - SPICE Class -- CASSINI Remote Sensing Lesson Kernels: (id: 33)\r",
      "\r\n",
      " - SPICE Class -- ExoMars 2016 Remote Sensing Lesson Kernels: (id: 34)\r\n",
      " - SPICE Class -- In-situ Sensing Lesson Kernels: (id: 35)\r\n",
      " - SPICE Class -- Mars Express Geometric Event Finding Lesson Kernels: (id: 36)\r\n",
      " - SPICE Class -- ExoMars 2016 Geometric Event Finding Lesson Kernels: (id: 37)\r\n",
      " - SPICE Class -- Binary PCK Lesson Kernels (Moon): (id: 38)\r\n",
      " - SPICE Class -- Binary PCK Lesson Kernels (Earth): (id: 39)\r\n"
     ]
    }
   ],
   "source": [
    "!wgc-kernels --all"
   ]
  },
  {
   "cell_type": "markdown",
   "metadata": {},
   "source": [
    "Search a kernel by `name` or `id`:"
   ]
  },
  {
   "cell_type": "code",
   "execution_count": 3,
   "metadata": {},
   "outputs": [
    {
     "name": "stdout",
     "output_type": "stream",
     "text": [
      "Too many kernel sets contains 'Cassini' in their names:\r\n",
      " - Cassini Huygens\r\n",
      " - SPICE Class -- CASSINI Remote Sensing Lesson Kernels\r\n"
     ]
    }
   ],
   "source": [
    "!wgc-kernels --kernel Cassini"
   ]
  },
  {
   "cell_type": "code",
   "execution_count": 4,
   "metadata": {},
   "outputs": [
    {
     "name": "stdout",
     "output_type": "stream",
     "text": [
      " - Cassini Huygens: (id: 5)\r\n"
     ]
    }
   ],
   "source": [
    "!wgc-kernels --kernel 'Cassini Huygens'"
   ]
  },
  {
   "cell_type": "markdown",
   "metadata": {},
   "source": [
    "Search multiple kernels at once (`name` and `id` can be mixed):"
   ]
  },
  {
   "cell_type": "code",
   "execution_count": 5,
   "metadata": {},
   "outputs": [
    {
     "name": "stdout",
     "output_type": "stream",
     "text": [
      " - Cassini Huygens: (id: 5)\r\n",
      " - Solar System Kernels: (id: 1)\r\n"
     ]
    }
   ],
   "source": [
    "!wgc-kernels --kernel 5 'Solar'"
   ]
  },
  {
   "cell_type": "markdown",
   "metadata": {},
   "source": [
    "## Bodies: `/kernel-set/{kernelSetId}/bodies`\n",
    "\n",
    "List all the bodies for a specific kernel set (by `id` or by `name`):"
   ]
  },
  {
   "cell_type": "code",
   "execution_count": 6,
   "metadata": {
    "scrolled": true
   },
   "outputs": [
    {
     "name": "stdout",
     "output_type": "stream",
     "text": [
      " - CASSINI: (id: -82)\r\n",
      " - CAS: (id: -82)\r\n",
      " - MERCURY BARYCENTER: (id: 1)\r\n",
      " - VENUS BARYCENTER: (id: 2)\r\n",
      " - EARTH BARYCENTER: (id: 3)\r\n",
      " - EMB: (id: 3)\r\n",
      " - EARTH MOON BARYCENTER: (id: 3)\r\n",
      " - EARTH-MOON BARYCENTER: (id: 3)\r\n",
      " - MARS BARYCENTER: (id: 4)\r\n",
      " - JUPITER BARYCENTER: (id: 5)\r\n",
      " - SATURN BARYCENTER: (id: 6)\r\n",
      " - URANUS BARYCENTER: (id: 7)\r\n",
      " - NEPTUNE BARYCENTER: (id: 8)\r\n",
      " - PLUTO BARYCENTER: (id: 9)\r\n",
      " - SUN: (id: 10)\r\n",
      " - MERCURY: (id: 199)\r\n",
      " - VENUS: (id: 299)\r\n",
      " - MOON: (id: 301)\r\n",
      " - EARTH: (id: 399)\r\n",
      " - MARS: (id: 499)\r\n",
      " - IO: (id: 501)\r\n",
      " - EUROPA: (id: 502)\r\n",
      " - GANYMEDE: (id: 503)\r\n",
      " - CALLISTO: (id: 504)\r\n",
      " - AMALTHEA: (id: 505)\r\n",
      " - THEBE: (id: 514)\r\n",
      " - ADRASTEA: (id: 515)\r\n",
      " - METIS: (id: 516)\r\n",
      " - JUPITER: (id: 599)\r\n",
      " - MIMAS: (id: 601)\r\n",
      " - ENCELADUS: (id: 602)\r\n",
      " - TETHYS: (id: 603)\r\n",
      " - DIONE: (id: 604)\r\n",
      " - RHEA: (id: 605)\r\n",
      " - TITAN: (id: 606)\r\n",
      " - HYPERION: (id: 607)\r\n",
      " - IAPETUS: (id: 608)\r\n",
      " - PHOEBE: (id: 609)\r\n",
      " - JANUS: (id: 610)\r\n",
      " - EPIMETHEUS: (id: 611)\r\n",
      " - HELENE: (id: 612)\r\n",
      " - TELESTO: (id: 613)\r\n",
      " - CALYPSO: (id: 614)\r\n",
      " - ATLAS: (id: 615)\r\n",
      " - PROMETHEUS: (id: 616)\r\n",
      " - PANDORA: (id: 617)\r\n",
      " - PAN: (id: 618)\r\n",
      " - YMIR: (id: 619)\r\n",
      " - PAALIAQ: (id: 620)\r\n",
      " - TARVOS: (id: 621)\r\n",
      " - IJIRAQ: (id: 622)\r\n",
      " - SUTTUNGR: (id: 623)\r\n",
      " - KIVIUQ: (id: 624)\r\n",
      " - MUNDILFARI: (id: 625)\r\n",
      " - ALBIORIX: (id: 626)\r\n",
      " - SKATHI: (id: 627)\r\n",
      " - ERRIAPUS: (id: 628)\r\n",
      " - SIARNAQ: (id: 629)\r\n",
      " - THRYMR: (id: 630)\r\n",
      " - NARVI: (id: 631)\r\n",
      " - METHONE: (id: 632)\r\n",
      " - PALLENE: (id: 633)\r\n",
      " - POLYDEUCES: (id: 634)\r\n",
      " - DAPHNIS: (id: 635)\r\n",
      " - AEGIR: (id: 636)\r\n",
      " - BEBHIONN: (id: 637)\r\n",
      " - BERGELMIR: (id: 638)\r\n",
      " - BESTLA: (id: 639)\r\n",
      " - FARBAUTI: (id: 640)\r\n",
      " - FENRIR: (id: 641)\r\n",
      " - FORNJOT: (id: 642)\r\n",
      " - HATI: (id: 643)\r\n",
      " - HYRROKKIN: (id: 644)\r\n",
      " - HYROKKIN: (id: 644)\r\n",
      " - KARI: (id: 645)\r\n",
      " - LOGE: (id: 646)\r\n",
      " - SKOLL: (id: 647)\r\n",
      " - SURTUR: (id: 648)\r\n",
      " - ANTHE: (id: 649)\r\n",
      " - JARNSAXA: (id: 650)\r\n",
      " - GREIP: (id: 651)\r\n",
      " - TARQEQ: (id: 652)\r\n",
      " - AEGAEON: (id: 653)\r\n",
      " - SATURN: (id: 699)\r\n",
      " - 65035: (id: 65035)\r\n",
      " - 65040: (id: 65040)\r\n",
      " - 65041: (id: 65041)\r\n",
      " - 65045: (id: 65045)\r\n",
      " - 65048: (id: 65048)\r\n",
      " - 65050: (id: 65050)\r\n",
      " - 65055: (id: 65055)\r\n",
      " - 65056: (id: 65056)\r\n",
      " - HIMALIA: (id: 506)\r\n",
      " - ELARA: (id: 507)\r\n",
      " - PASIPHAE: (id: 508)\r\n",
      " - SINOPE: (id: 509)\r\n",
      " - LYSITHEA: (id: 510)\r\n",
      " - CARME: (id: 511)\r\n",
      " - ANANKE: (id: 512)\r\n",
      " - LEDA: (id: 513)\r\n",
      " - CASP: (id: -150)\r\n",
      " - CASSINI PROBE: (id: -150)\r\n",
      " - HUYGENS PROBE: (id: -150)\r\n",
      " - SSB: (id: 0)\r\n",
      " - SOLAR SYSTEM BARYCENTER: (id: 0)\r\n"
     ]
    }
   ],
   "source": [
    "!wgc-bodies 'Cassini Huygens'"
   ]
  },
  {
   "cell_type": "markdown",
   "metadata": {},
   "source": [
    "Search for a specific body in a kernel set:"
   ]
  },
  {
   "cell_type": "code",
   "execution_count": 7,
   "metadata": {},
   "outputs": [
    {
     "name": "stdout",
     "output_type": "stream",
     "text": [
      " - TITAN: (id: 606)\r\n"
     ]
    }
   ],
   "source": [
    "!wgc-bodies 'Cassini Huygens' --name Titan"
   ]
  },
  {
   "cell_type": "markdown",
   "metadata": {},
   "source": [
    "## Frames: `/kernel-set/{kernelSetId}/frames`\n",
    "\n",
    "List and search frames for a specific kernel set:"
   ]
  },
  {
   "cell_type": "code",
   "execution_count": 8,
   "metadata": {},
   "outputs": [
    {
     "name": "stdout",
     "output_type": "stream",
     "text": [
      " - CASSINI_MIMI_PROF_TITAN: (id: -82960)\r\n",
      " - CASSINI_TITAN_CENTERED: (id: -82953)\r\n",
      " - CASSINI_SZM_TITAN: (id: -82926)\r\n",
      " - IAU_TITAN: (id: 10044)\r\n",
      " - IAU_TITANIA: (id: 10058)\r\n"
     ]
    }
   ],
   "source": [
    "!wgc-frames 'Cassini Huygens' --name Titan"
   ]
  },
  {
   "cell_type": "markdown",
   "metadata": {},
   "source": [
    "## Frames: `/kernel-set/{kernelSetId}/instruments`\n",
    "\n",
    "List and search instruments for a specific kernel set:"
   ]
  },
  {
   "cell_type": "code",
   "execution_count": 9,
   "metadata": {},
   "outputs": [
    {
     "name": "stdout",
     "output_type": "stream",
     "text": [
      " - CASSINI_ISS_WAC_RAD: (id: -82369)\r\n",
      " - CASSINI_ISS_NAC_RAD: (id: -82368)\r\n",
      " - CASSINI_ISS_WAC: (id: -82361)\r\n",
      " - CASSINI_ISS_NAC: (id: -82360)\r\n"
     ]
    }
   ],
   "source": [
    "!wgc-instruments 'Cassini Huygens' --name ISS"
   ]
  }
 ],
 "metadata": {
  "kernelspec": {
   "display_name": "Python 3",
   "language": "python",
   "name": "python3"
  },
  "language_info": {
   "codemirror_mode": {
    "name": "ipython",
    "version": 3
   },
   "file_extension": ".py",
   "mimetype": "text/x-python",
   "name": "python",
   "nbconvert_exporter": "python",
   "pygments_lexer": "ipython3",
   "version": "3.6.6"
  }
 },
 "nbformat": 4,
 "nbformat_minor": 2
}
