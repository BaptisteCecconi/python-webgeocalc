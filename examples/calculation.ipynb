{
 "cells": [
  {
   "cell_type": "markdown",
   "metadata": {},
   "source": [
    "**Previous:** Use [WebGeoCalc API](api.ipynb)\n",
    "\n",
    "---\n",
    "\n",
    "# Make a calculation"
   ]
  },
  {
   "cell_type": "code",
   "execution_count": 1,
   "metadata": {},
   "outputs": [],
   "source": [
    "from webgeocalc import Calculation"
   ]
  },
  {
   "cell_type": "markdown",
   "metadata": {},
   "source": [
    "## Prepare payload"
   ]
  },
  {
   "cell_type": "code",
   "execution_count": 2,
   "metadata": {},
   "outputs": [
    {
     "data": {
      "text/plain": [
       "'{\"kernels\":[{\"type\":\"KERNEL_SET\",\"id\":5}]}'"
      ]
     },
     "execution_count": 2,
     "metadata": {},
     "output_type": "execute_result"
    }
   ],
   "source": [
    "# Load kernel by id:\n",
    "Calculation(5).payload"
   ]
  },
  {
   "cell_type": "code",
   "execution_count": 3,
   "metadata": {},
   "outputs": [
    {
     "data": {
      "text/plain": [
       "'{\"kernels\":[{\"type\":\"KERNEL_SET\",\"id\":5}]}'"
      ]
     },
     "execution_count": 3,
     "metadata": {},
     "output_type": "execute_result"
    }
   ],
   "source": [
    "# By name:\n",
    "Calculation('Cassini Huygens').payload"
   ]
  },
  {
   "cell_type": "code",
   "execution_count": 4,
   "metadata": {},
   "outputs": [
    {
     "data": {
      "text/plain": [
       "'{\"kernels\":[{\"type\":\"KERNEL_SET\",\"id\":1}]}'"
      ]
     },
     "execution_count": 4,
     "metadata": {},
     "output_type": "execute_result"
    }
   ],
   "source": [
    "from webgeocalc import API\n",
    "kernel_set = API.kernel_sets()[0]\n",
    "\n",
    "# by KernelSetDetails object:\n",
    "Calculation(kernel_set).payload"
   ]
  },
  {
   "cell_type": "markdown",
   "metadata": {},
   "source": [
    "#### Load multiple kernels:"
   ]
  },
  {
   "cell_type": "code",
   "execution_count": 5,
   "metadata": {},
   "outputs": [
    {
     "data": {
      "text/plain": [
       "'{\"kernels\":[{\"type\":\"KERNEL_SET\",\"id\":1},{\"type\":\"KERNEL_SET\",\"id\":5},{\"type\":\"KERNEL_SET\",\"id\":4}]}'"
      ]
     },
     "execution_count": 5,
     "metadata": {},
     "output_type": "execute_result"
    }
   ],
   "source": [
    "Calculation([1,5]).payload\n",
    "# or \n",
    "Calculation(['Solar System Kernels','Cassini Huygens']).payload\n",
    "# or \n",
    "Calculation([kernel_set, 'Cassini Huygens', 4]).payload"
   ]
  },
  {
   "cell_type": "markdown",
   "metadata": {},
   "source": [
    "#### Add individual kernel from on a remote server"
   ]
  },
  {
   "cell_type": "code",
   "execution_count": 6,
   "metadata": {},
   "outputs": [
    {
     "data": {
      "text/plain": [
       "'{\"kernels\":[{\"type\":\"KERNEL\",\"path\":\"https://path.to.server/kernel\"}]}'"
      ]
     },
     "execution_count": 6,
     "metadata": {},
     "output_type": "execute_result"
    }
   ],
   "source": [
    "calc = Calculation(None)\n",
    "calc.add_kernel_path('https://path.to.server/kernel')\n",
    "calc.payload"
   ]
  }
 ],
 "metadata": {
  "kernelspec": {
   "display_name": "Python 3",
   "language": "python",
   "name": "python3"
  },
  "language_info": {
   "codemirror_mode": {
    "name": "ipython",
    "version": 3
   },
   "file_extension": ".py",
   "mimetype": "text/x-python",
   "name": "python",
   "nbconvert_exporter": "python",
   "pygments_lexer": "ipython3",
   "version": "3.6.6"
  }
 },
 "nbformat": 4,
 "nbformat_minor": 2
}
