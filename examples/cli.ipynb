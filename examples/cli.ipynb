{
 "cells": [
  {
   "cell_type": "markdown",
   "metadata": {},
   "source": [
    "**Previous:** [Make a calculation in python](claculation.ipynb)\n",
    "\n",
    "---\n",
    "\n",
    "# Call the API from the command line\n",
    "\n",
    "## Kernel sets (`/kernel_sets`)\n",
    "\n",
    "List and search kernel sets available in WebGeocalc API:"
   ]
  },
  {
   "cell_type": "code",
   "execution_count": 1,
   "metadata": {},
   "outputs": [
    {
     "name": "stdout",
     "output_type": "stream",
     "text": [
      "usage: wgc-kernels [-h] [--all] [--kernel NAME/ID [NAME/ID ...]]\r\n",
      "\r\n",
      "List and search kernel sets available in WebGeocalc API.\r\n",
      "\r\n",
      "optional arguments:\r\n",
      "  -h, --help            show this help message and exit\r\n",
      "  --all, -a             List all kernel sets available\r\n",
      "  --kernel NAME/ID [NAME/ID ...], -k NAME/ID [NAME/ID ...]\r\n",
      "                        Search a specific kernel by name or id\r\n"
     ]
    }
   ],
   "source": [
    "!wgc-kernels"
   ]
  },
  {
   "cell_type": "markdown",
   "metadata": {},
   "source": [
    "List all the available kernels:"
   ]
  },
  {
   "cell_type": "code",
   "execution_count": 2,
   "metadata": {},
   "outputs": [
    {
     "name": "stdout",
     "output_type": "stream",
     "text": [
      " - Solar System Kernels: (id: 1)\r\n",
      " - Latest Leapseconds Kernel: (id: 2)\r\n",
      " - Latest Planetary Constants Kernel: (id: 3)\r\n",
      " - Ground Stations Kernels: (id: 4)\r\n",
      " - Cassini Huygens: (id: 5)\r\n",
      " - Clementine: (id: 6)\r\n",
      " - Dawn: (id: 7)\r\n",
      " - Deep Impact (Primary mission): (id: 8)\r\n",
      " - Deep Impact (EPOXI mission): (id: 9)\r\n",
      " - Deep Space 1: (id: 10)\r\n",
      " - GRAIL: (id: 11)\r\n",
      " - Hayabusa: (id: 12)\r\n",
      " - JUNO: (id: 13)\r\n",
      " - Lunar Reconnaissance Orbiter: (id: 14)\r\n",
      " - MAVEN: (id: 15)\r\n",
      " - MER1 Rover (Opportunity): (id: 16)\r\n",
      " - MER2 Rover (Spirit): (id: 17)\r\n",
      " - MESSENGER: (id: 18)\r\n",
      " - Mars Express: (id: 19)\r\n",
      " - Mars Global Surveyor: (id: 20)\r\n",
      " - Mars Odyssey: (id: 21)\r\n",
      " - Mars Reconnaissance Orbiter: (id: 22)\r\n",
      " - MSL Rover (Curiosity): (id: 23)\r\n",
      " - NEAR: (id: 24)\r\n",
      " - New Horizons: (id: 25)\r\n",
      " - OSIRIS-REx: (id: 26)\r\n",
      " - Rosetta: (id: 27)\r\n",
      " - Stardust: (id: 28)\r\n",
      " - Venus Climate Orbiter: (id: 29)\r\n",
      " - Venus Express: (id: 30)\r\n",
      " - Viking Orbiters: (id: 31)\r\n",
      " - LADEE: (id: 32)\r\n",
      " - SPICE Class -- CASSINI Remote Sensing Lesson Kernels: (id: 33)\r",
      "\r\n",
      " - SPICE Class -- ExoMars 2016 Remote Sensing Lesson Kernels: (id: 34)\r\n",
      " - SPICE Class -- In-situ Sensing Lesson Kernels: (id: 35)\r\n",
      " - SPICE Class -- Mars Express Geometric Event Finding Lesson Kernels: (id: 36)\r\n",
      " - SPICE Class -- ExoMars 2016 Geometric Event Finding Lesson Kernels: (id: 37)\r\n",
      " - SPICE Class -- Binary PCK Lesson Kernels (Moon): (id: 38)\r\n",
      " - SPICE Class -- Binary PCK Lesson Kernels (Earth): (id: 39)\r\n"
     ]
    }
   ],
   "source": [
    "!wgc-kernels --all"
   ]
  },
  {
   "cell_type": "markdown",
   "metadata": {},
   "source": [
    "Search a kernel by `name` or `id`:"
   ]
  },
  {
   "cell_type": "code",
   "execution_count": 3,
   "metadata": {},
   "outputs": [
    {
     "name": "stdout",
     "output_type": "stream",
     "text": [
      "Too many kernel sets contains 'Cassini' in their names:\r\n",
      " - Cassini Huygens\r\n",
      " - SPICE Class -- CASSINI Remote Sensing Lesson Kernels\r\n"
     ]
    }
   ],
   "source": [
    "!wgc-kernels --kernel Cassini"
   ]
  },
  {
   "cell_type": "code",
   "execution_count": 4,
   "metadata": {},
   "outputs": [
    {
     "name": "stdout",
     "output_type": "stream",
     "text": [
      " - Cassini Huygens: (id: 5)\r\n"
     ]
    }
   ],
   "source": [
    "!wgc-kernels --kernel 'Cassini Huygens'"
   ]
  },
  {
   "cell_type": "markdown",
   "metadata": {},
   "source": [
    "Search multiple kernels at once (`name` and `id` can be mixed):"
   ]
  },
  {
   "cell_type": "code",
   "execution_count": 5,
   "metadata": {},
   "outputs": [
    {
     "name": "stdout",
     "output_type": "stream",
     "text": [
      " - Cassini Huygens: (id: 5)\r\n",
      " - Solar System Kernels: (id: 1)\r\n"
     ]
    }
   ],
   "source": [
    "!wgc-kernels --kernel 5 'Solar'"
   ]
  }
 ],
 "metadata": {
  "kernelspec": {
   "display_name": "Python 3",
   "language": "python",
   "name": "python3"
  },
  "language_info": {
   "codemirror_mode": {
    "name": "ipython",
    "version": 3
   },
   "file_extension": ".py",
   "mimetype": "text/x-python",
   "name": "python",
   "nbconvert_exporter": "python",
   "pygments_lexer": "ipython3",
   "version": "3.6.6"
  }
 },
 "nbformat": 4,
 "nbformat_minor": 2
}
