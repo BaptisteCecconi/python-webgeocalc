{
 "cells": [
  {
   "cell_type": "markdown",
   "metadata": {},
   "source": [
    "**Previous:** [Make a calculation in python](claculation.ipynb)\n",
    "\n",
    "---\n",
    "\n",
    "# Call the API from the command line\n",
    "\n",
    "- [Kernel sets](#Kernel-sets:-/kernel_sets)\n",
    "- [Bodies](#Bodies:-/kernel-set/{kernelSetId}/bodies)\n",
    "- [Frames](#Frames:-/kernel-set/{kernelSetId}/frames)\n",
    "- [Instruments](#Frames:-/kernel-set/{kernelSetId}/instruments)\n",
    "\n",
    "## Kernel sets\n",
    "\n",
    "List and search kernel sets (`/kernel_sets`) available in WebGeocalc API:"
   ]
  },
  {
   "cell_type": "code",
   "execution_count": 1,
   "metadata": {},
   "outputs": [
    {
     "name": "stdout",
     "output_type": "stream",
     "text": [
      "usage: wgc-kernels [-h] [--all] [--kernel NAME|ID [NAME|ID ...]]\r\n",
      "\r\n",
      "List and search kernel sets available in WebGeocalc API.\r\n",
      "\r\n",
      "optional arguments:\r\n",
      "  -h, --help            show this help message and exit\r\n",
      "  --all, -a             List all kernel sets available\r\n",
      "  --kernel NAME|ID [NAME|ID ...], -k NAME|ID [NAME|ID ...]\r\n",
      "                        Search a specific kernel by name or id\r\n"
     ]
    }
   ],
   "source": [
    "!wgc-kernels"
   ]
  },
  {
   "cell_type": "markdown",
   "metadata": {},
   "source": [
    "List all the available kernels:"
   ]
  },
  {
   "cell_type": "code",
   "execution_count": 2,
   "metadata": {
    "scrolled": true
   },
   "outputs": [
    {
     "name": "stdout",
     "output_type": "stream",
     "text": [
      " - Solar System Kernels: (id: 1)\r\n",
      " - Latest Leapseconds Kernel: (id: 2)\r\n",
      "...\r\n",
      " - Cassini Huygens: (id: 5)\r\n",
      "...\r\n",
      " - SPICE Class -- Binary PCK Lesson Kernels (Earth): (id: 39)\r\n"
     ]
    }
   ],
   "source": [
    "!wgc-kernels --all"
   ]
  },
  {
   "cell_type": "markdown",
   "metadata": {},
   "source": [
    "Search a kernel by `name` or `id`:"
   ]
  },
  {
   "cell_type": "code",
   "execution_count": 3,
   "metadata": {},
   "outputs": [
    {
     "name": "stdout",
     "output_type": "stream",
     "text": [
      "Too many kernel sets contains 'Cassini' in their names:\r\n",
      " - Cassini Huygens\r\n",
      " - SPICE Class -- CASSINI Remote Sensing Lesson Kernels\r\n"
     ]
    }
   ],
   "source": [
    "!wgc-kernels --kernel Cassini"
   ]
  },
  {
   "cell_type": "code",
   "execution_count": 4,
   "metadata": {},
   "outputs": [
    {
     "name": "stdout",
     "output_type": "stream",
     "text": [
      " - Cassini Huygens: (id: 5)\r\n"
     ]
    }
   ],
   "source": [
    "!wgc-kernels --kernel 'Cassini Huygens'"
   ]
  },
  {
   "cell_type": "markdown",
   "metadata": {},
   "source": [
    "Search multiple kernels at once (`name` and `id` can be mixed):"
   ]
  },
  {
   "cell_type": "code",
   "execution_count": 5,
   "metadata": {},
   "outputs": [
    {
     "name": "stdout",
     "output_type": "stream",
     "text": [
      " - Cassini Huygens: (id: 5)\r\n",
      " - Solar System Kernels: (id: 1)\r\n"
     ]
    }
   ],
   "source": [
    "!wgc-kernels --kernel 5 'Solar'"
   ]
  },
  {
   "cell_type": "markdown",
   "metadata": {},
   "source": [
    "## Bodies\n",
    "\n",
    "List all the bodies (`/kernel-set/{kernelSetId}/bodies`) for a specific kernel set (by `id` or by `name`):"
   ]
  },
  {
   "cell_type": "code",
   "execution_count": 6,
   "metadata": {
    "scrolled": true
   },
   "outputs": [
    {
     "name": "stdout",
     "output_type": "stream",
     "text": [
      " - CASSINI: (id: -82)\r\n",
      " - CAS: (id: -82)\r\n",
      " - MERCURY BARYCENTER: (id: 1)\r\n",
      " - VENUS BARYCENTER: (id: 2)\r\n",
      "...\r\n",
      " - SOLAR SYSTEM BARYCENTER: (id: 0)\r\n"
     ]
    }
   ],
   "source": [
    "!wgc-bodies 'Cassini Huygens'"
   ]
  },
  {
   "cell_type": "markdown",
   "metadata": {},
   "source": [
    "Search for a specific body in a kernel set:"
   ]
  },
  {
   "cell_type": "code",
   "execution_count": 7,
   "metadata": {},
   "outputs": [
    {
     "name": "stdout",
     "output_type": "stream",
     "text": [
      " - TITAN: (id: 606)\r\n"
     ]
    }
   ],
   "source": [
    "!wgc-bodies 'Cassini Huygens' --name Titan"
   ]
  },
  {
   "cell_type": "markdown",
   "metadata": {},
   "source": [
    "## Frames\n",
    "\n",
    "List and search frames (`/kernel-set/{kernelSetId}/frames`) for a specific kernel set:"
   ]
  },
  {
   "cell_type": "code",
   "execution_count": 8,
   "metadata": {},
   "outputs": [
    {
     "name": "stdout",
     "output_type": "stream",
     "text": [
      " - CASSINI_MIMI_PROF_TITAN: (id: -82960)\r\n",
      " - CASSINI_TITAN_CENTERED: (id: -82953)\r\n",
      " - CASSINI_SZM_TITAN: (id: -82926)\r\n",
      " - IAU_TITAN: (id: 10044)\r\n",
      " - IAU_TITANIA: (id: 10058)\r\n"
     ]
    }
   ],
   "source": [
    "!wgc-frames 'Cassini Huygens' --name Titan"
   ]
  },
  {
   "cell_type": "markdown",
   "metadata": {},
   "source": [
    "## Instruments\n",
    "\n",
    "List and search instruments (`/kernel-set/{kernelSetId}/instruments`) for a specific kernel set:"
   ]
  },
  {
   "cell_type": "code",
   "execution_count": 9,
   "metadata": {},
   "outputs": [
    {
     "name": "stdout",
     "output_type": "stream",
     "text": [
      " - CASSINI_ISS_WAC_RAD: (id: -82369)\r\n",
      " - CASSINI_ISS_NAC_RAD: (id: -82368)\r\n",
      " - CASSINI_ISS_WAC: (id: -82361)\r\n",
      " - CASSINI_ISS_NAC: (id: -82360)\r\n"
     ]
    }
   ],
   "source": [
    "!wgc-instruments 'Cassini Huygens' --name ISS"
   ]
  }
 ],
 "metadata": {
  "kernelspec": {
   "display_name": "Python 3",
   "language": "python",
   "name": "python3"
  },
  "language_info": {
   "codemirror_mode": {
    "name": "ipython",
    "version": 3
   },
   "file_extension": ".py",
   "mimetype": "text/x-python",
   "name": "python",
   "nbconvert_exporter": "python",
   "pygments_lexer": "ipython3",
   "version": "3.6.6"
  }
 },
 "nbformat": 4,
 "nbformat_minor": 2
}
